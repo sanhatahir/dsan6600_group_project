{
 "cells": [
  {
   "cell_type": "markdown",
   "metadata": {},
   "source": [
    "## Download Quads (satellite images) from Mosiacs (a map of a given time period) Using Planet Basemaps API\n",
    "---"
   ]
  },
  {
   "cell_type": "markdown",
   "metadata": {},
   "source": [
    "The base code was partially taken / inspired from the Planet API documentation and examples: https://github.com/planetlabs/notebooks/blob/master/jupyter-notebooks/quad_tutorial/download_quads.ipynb & https://developers.planet.com/docs/basemaps/"
   ]
  },
  {
   "cell_type": "code",
   "execution_count": 1,
   "metadata": {},
   "outputs": [],
   "source": [
    "import os\n",
    "import requests\n",
    "import json\n",
    "from urllib.request import urlopen\n",
    "from shutil import copyfileobj"
   ]
  },
  {
   "cell_type": "code",
   "execution_count": 3,
   "metadata": {},
   "outputs": [],
   "source": [
    "# if your Planet API Key is not set as an environment variable, you can paste it below by modifying this to: API_KEY = os.environ.get('PL_API_KEY', 'your_api_key')\n",
    "API_KEY = os.environ.get('PL_API_KEY')\n",
    "\n",
    "# Setup Planet Data API base URL\n",
    "URL = \"https://api.planet.com/basemaps/v1/mosaics\"\n",
    "\n",
    "# Setup the session\n",
    "session = requests.Session()\n",
    "\n",
    "# Authenticate\n",
    "session.auth = (API_KEY, \"\")"
   ]
  },
  {
   "cell_type": "code",
   "execution_count": 4,
   "metadata": {},
   "outputs": [],
   "source": [
    "#Test if API is working on a simple example\n",
    "\n",
    "#set params for search using name of mosaic\n",
    "parameters = {\n",
    "    \"name__is\" :\"planet_medres_normalized_analytic_2023-10_mosaic\" \n",
    "}\n",
    "#make get request to access mosaic from basemaps API\n",
    "res = session.get(URL, params = parameters)\n",
    "mosaic = res.json()\n",
    "\n",
    "#get id\n",
    "mosaic_id = mosaic['mosaics'][0]['id']\n",
    "#get bbox for entire mosaic\n",
    "mosaic_bbox = mosaic['mosaics'][0]['bbox']\n",
    "#converting bbox to string for search params\n",
    "string_bbox = ','.join(map(str, mosaic_bbox))\n",
    "\n",
    "#search for mosaic quad using AOI\n",
    "search_parameters = {\n",
    "    'bbox': string_bbox,\n",
    "    'minimal': True\n",
    "}\n",
    "quad_id = '628-961'\n",
    "#accessing quads using metadata from mosaic\n",
    "quads_url = \"{}/{}/quads/{}\".format(URL, mosaic_id, quad_id)\n",
    "#quads_url = \"{}/{}/quads/\".format(URL, mosaic_id)\n",
    "res = session.get(quads_url, params=search_parameters, stream=True)\n",
    "\n",
    "quads = res.json()"
   ]
  },
  {
   "cell_type": "markdown",
   "metadata": {},
   "source": [
    "A set of helper functions are defined below to automate querying the API:\n",
    "- `get_quads_per_mosaic` takes a list of quads and a mosaic, queries the API and returns the results in a dictionary\n",
    "- `mosaic_quad_dictionary` iterates over a list of mosaics and implements `get_quads_per_mosaic` for each, returns a dictionary of mosaics-quad API call results\n",
    "- `download_thumbnails` uses the API response dictionary generated and downloads thumbnails\n",
    "- `download_images` downloads the full quality images"
   ]
  },
  {
   "cell_type": "code",
   "execution_count": 5,
   "metadata": {},
   "outputs": [],
   "source": [
    "def get_quads_per_mosaic(quads,mosaics):\n",
    "    '''\n",
    "    Takes a list and a string as input parameters: a list of quads, defined as, for example ['677-938', '679-938'], \n",
    "    and a string of a mosaics, like 'planet_medres_visual_2023-06_mosaic'\n",
    "    Returns a dictionary of the results for the API call for each quad in the mosaic\n",
    "    '''\n",
    "    #set params for search using name of mosaic\n",
    "    parameters = {\n",
    "        \"name__is\" :mosaics \n",
    "    }\n",
    "    #make get request to access mosaic from basemaps API\n",
    "    res = session.get(URL, params = parameters)\n",
    "    mosaic = res.json()\n",
    "\n",
    "    #get id\n",
    "    mosaic_id = mosaic['mosaics'][0]['id']\n",
    "    #get bbox for entire mosaic\n",
    "    mosaic_bbox = mosaic['mosaics'][0]['bbox']\n",
    "    #converting bbox to string for search params\n",
    "    string_bbox = ','.join(map(str, mosaic_bbox))\n",
    "\n",
    "    #search for mosaic quad using AOI\n",
    "    search_parameters = {\n",
    "        'bbox': string_bbox,\n",
    "        'minimal': True\n",
    "    }\n",
    "\n",
    "    # Dictionary to store quad data\n",
    "    quads_data_dict = {}\n",
    "\n",
    "    # Iterate over the quads\n",
    "    for quad_id in quads:\n",
    "        quads_url = \"{}/{}/quads/{}\".format(URL, mosaic_id, quad_id)\n",
    "        res = session.get(quads_url, params=search_parameters, stream=True)\n",
    "        quad_data = res.json()\n",
    "        quads_data_dict[quad_id] = quad_data\n",
    "\n",
    "    return quads_data_dict\n",
    "\n",
    "\n",
    "\n",
    "\n"
   ]
  },
  {
   "cell_type": "code",
   "execution_count": 6,
   "metadata": {},
   "outputs": [],
   "source": [
    "def mosaic_quad_dictionary(quad_list, mosaic_list):\n",
    "    master_dict = {}\n",
    "    for m in mosaic_list:\n",
    "        quads_data = get_quads_per_mosaic(quad_list, m)\n",
    "        master_dict[m] = quads_data\n",
    "    return master_dict"
   ]
  },
  {
   "cell_type": "code",
   "execution_count": 7,
   "metadata": {},
   "outputs": [],
   "source": [
    "def download_thumbnails(master_data, save_dir, prints=False):\n",
    "    \"\"\"\n",
    "    Downloads thumbnails for each quad in each mosaic and saves them to the specified directory.\n",
    "\n",
    "    :param master_data: A multi-level dictionary with mosaic names and quads as keys and the results of the API query as values (includes link to thumbnail or download).\n",
    "    :param save_dir: The directory where thumbnails will be saved. \n",
    "    \"\"\"\n",
    "\n",
    "    # Iterate over each mosaic and its quads\n",
    "    for mosaic_name, quads in master_data.items():\n",
    "        for quad_id, quad_data in quads.items():\n",
    "            # Check if the '_links' and 'thumbnail' keys exist\n",
    "            if '_links' in quad_data and 'thumbnail' in quad_data['_links']:\n",
    "                link = quad_data['_links']['thumbnail']\n",
    "                # Construct a filename using both mosaic name and quad id\n",
    "                filename = f\"{mosaic_name}_{quad_id}.png\"\n",
    "                filepath = os.path.join(save_dir, filename)\n",
    "\n",
    "                try:\n",
    "                    with urlopen(link) as in_stream, open(filepath, 'wb') as out_file:\n",
    "                        copyfileobj(in_stream, out_file)\n",
    "                        if prints==True:\n",
    "                            print(f\"Downloaded thumbnail for {filename}\")\n",
    "                except Exception as e:\n",
    "                    print(f\"Error downloading {filename}: {e}\")"
   ]
  },
  {
   "cell_type": "code",
   "execution_count": 8,
   "metadata": {},
   "outputs": [],
   "source": [
    "def download_images(master_data, save_dir, prints=False):\n",
    "    \"\"\"\n",
    "    Downloads thumbnails for each quad in each mosaic and saves them to the specified directory.\n",
    "\n",
    "    :param master_data: A multi-level dictionary with mosaic names and quads as keys and the results of the API query as values (includes link to thumbnail or download).\n",
    "    :param save_dir: The directory where thumbnails will be saved.\n",
    "    \"\"\"\n",
    "\n",
    "    # Iterate over each mosaic and its quads\n",
    "    for mosaic_name, quads in master_data.items():\n",
    "        for quad_id, quad_data in quads.items():\n",
    "            # Check if the '_links' and 'thumbnail' keys exist\n",
    "            if '_links' in quad_data and 'download' in quad_data['_links']:\n",
    "                link = quad_data['_links']['download']\n",
    "                # Construct a filename using both mosaic name and quad id\n",
    "                filename = f\"{mosaic_name}_{quad_id}.tif\"\n",
    "                filepath = os.path.join(save_dir, filename)\n",
    "\n",
    "                try:\n",
    "                    with urlopen(link) as in_stream, open(filepath, 'wb') as out_file:\n",
    "                        copyfileobj(in_stream, out_file)\n",
    "                        if prints == True:\n",
    "                            print(f\"Downloaded thumbnail for {filename}\")\n",
    "                except Exception as e:\n",
    "                    print(f\"Error downloading {filename}: {e}\")"
   ]
  },
  {
   "cell_type": "markdown",
   "metadata": {},
   "source": [
    "## Data collection for the analysis\n",
    "\n",
    "The 36 quad ID-s with download for 2 periods and thumbnails for 1 period per year"
   ]
  },
  {
   "cell_type": "code",
   "execution_count": 9,
   "metadata": {},
   "outputs": [],
   "source": [
    "quad_list = ['672-933', \n",
    "'673-933', \n",
    "'674-933', \n",
    "'675-933', \n",
    "'676-933', \n",
    "'677-933', \n",
    "'672-932', \n",
    "'673-932', \n",
    "'674-932', \n",
    "'675-932', \n",
    "'676-932', \n",
    "'677-932', \n",
    "'672-931', \n",
    "'673-931', \n",
    "'674-931', \n",
    "'675-931', \n",
    "'676-931', \n",
    "'677-931', \n",
    "'672-930', \n",
    "'673-930', \n",
    "'674-930', \n",
    "'675-930', \n",
    "'676-930', \n",
    "'677-930', \n",
    "'672-929', \n",
    "'673-929', \n",
    "'674-929', \n",
    "'675-929', \n",
    "'676-929', \n",
    "'677-929', \n",
    "'672-928', \n",
    "'673-928', \n",
    "'674-928', \n",
    "'675-928', \n",
    "'676-928', \n",
    "'677-928']\n",
    "\n",
    "mosaic_pres_2yr_anl = ['planet_medres_normalized_analytic_2023-08_mosaic','planet_medres_normalized_analytic_2017-06_2017-11_mosaic']\n",
    "\n",
    "mosaic_list_anl = [\n",
    "                         'planet_medres_normalized_analytic_2023-08_mosaic',\n",
    "                         'planet_medres_normalized_analytic_2022-07_mosaic',\n",
    "                         'planet_medres_normalized_analytic_2021-07_mosaic',\n",
    "                         'planet_medres_normalized_analytic_2020-06_2020-08_mosaic',\n",
    "                         'planet_medres_normalized_analytic_2019-06_2019-11_mosaic',\n",
    "                         'planet_medres_normalized_analytic_2018-06_2018-11_mosaic',\n",
    "                         'planet_medres_normalized_analytic_2017-06_2017-11_mosaic',\n",
    "                         'planet_medres_normalized_analytic_2016-06_2016-11_mosaic'\n",
    "\n",
    "]"
   ]
  },
  {
   "cell_type": "code",
   "execution_count": 10,
   "metadata": {},
   "outputs": [],
   "source": [
    "#functions to switch between visual and normalized data\n",
    "def normalized_to_viz(mosaic_list):\n",
    "    list = []\n",
    "    for m in mosaic_list:\n",
    "        mnew = m.replace('_normalized_analytic_','_visual_')\n",
    "        list.append(mnew)\n",
    "    return list\n",
    "\n",
    "#create the visual lists\n",
    "def viz_to_normalized(mosaic_list):\n",
    "    list = []\n",
    "    for m in mosaic_list:\n",
    "        mnew = m.replace('_visual_','_normalized_analytic_')\n",
    "        list.append(mnew)\n",
    "    return list"
   ]
  },
  {
   "cell_type": "code",
   "execution_count": 11,
   "metadata": {},
   "outputs": [],
   "source": [
    "\n",
    "pres_yearly_anl = mosaic_quad_dictionary(quad_list, mosaic_pres_2yr_anl)\n",
    "pres_allyears_anl = mosaic_quad_dictionary(quad_list, mosaic_list_anl)"
   ]
  },
  {
   "cell_type": "code",
   "execution_count": 36,
   "metadata": {},
   "outputs": [
    {
     "name": "stdout",
     "output_type": "stream",
     "text": [
      "36\n",
      "36\n"
     ]
    }
   ],
   "source": [
    "#check the lenght - If downloading, lenght x 40-100 MB is your download size\n",
    "for m in pres_yearly_anl:\n",
    "    print(len(pres_yearly_anl[m]))"
   ]
  },
  {
   "cell_type": "markdown",
   "metadata": {},
   "source": [
    "Given the size of the full-slace images, we will work with png images for all periods, and only work with .tiff images for the start and end time (2017 and 2023) as a separate analysis"
   ]
  },
  {
   "cell_type": "code",
   "execution_count": 54,
   "metadata": {},
   "outputs": [],
   "source": [
    "#download_thumbnails(pres_allyears_anl, 'presentation_data/2yr_anl')\n",
    "#download_images(pres_yearly_anl, 'presentation_data/2years_anl')"
   ]
  }
 ],
 "metadata": {
  "kernelspec": {
   "display_name": "Python 3 (ipykernel)",
   "language": "python",
   "name": "python3"
  },
  "language_info": {
   "codemirror_mode": {
    "name": "ipython",
    "version": 3
   },
   "file_extension": ".py",
   "mimetype": "text/x-python",
   "name": "python",
   "nbconvert_exporter": "python",
   "pygments_lexer": "ipython3",
   "version": "3.11.4"
  }
 },
 "nbformat": 4,
 "nbformat_minor": 4
}
